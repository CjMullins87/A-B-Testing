{
 "cells": [
  {
   "cell_type": "markdown",
   "metadata": {},
   "source": [
    "# Conclusion\n",
    "\n",
    "In this review, we looked at the Northiwnd database ane extracted useful data to answer business case questions. In particular, we examined the following questions:\n",
    "\n",
    ">**1. Does discount amount have a statistically significant effect on the quantity of a product in an order? If so, at what level(s) of discount?**\n",
    ">\n",
    ">**2. Does offering a discount impact the total value of a sale? aka, is it successfully encouraging customers to purchase more?**\n",
    ">\n",
    ">**3. Are there some employees performing better than others? If so, we can use this insight to coach other employees.**\n",
    ">\n",
    ">**4. Is there a manager whose team is outperforming the other? This might influence pay raise of a manager, and help us coach develop the other team.**\n",
    "\n",
    "We used analytical tools including SciPy and Statsmodels, and made heavy use of dataframes within Pandas as well as visualization tools such as MatPlotlib and Seaborn to represent the data we were working with. Altogether, these tools allowed us to review these questions and reach the following conclusions:\n",
    "\n",
    "## Discount amount does significantly affect quantity of a product in an order, and discounts are most effective at the rates of 5% and 15%.\n",
    "\n",
    "To reach this conclusion, we pulled samples of sales with discounts and compared them to the population of sales without discounts. Overall, every discount seemed to significantly improve the quantity of items ordered by a customer, however, discounts of 5% and 15% had the greatest measurable effect of the discount groups. As such, we'd recommend discontinuing discounts >15% on an order, as the effect of those discounts is simultaneously less impactful and more costly.\n",
    "\n",
    "It's worth noting however that several unique discounts were offered on a one/two/three times basis in unique cases. Due to the small size of this data, we aren't able to rule out whether these rare discounts impact order quantity.\n",
    "\n",
    "To visualize the impacts of 5% and 15% discounts versus the general sales population, please see the below figures.\n",
    "\n",
    "![5% discount](d0-v-d05.PNG)\n",
    "![15% discount](d0-v-d15.PNG)"
   ]
  },
  {
   "cell_type": "markdown",
   "metadata": {},
   "source": [
    "## Offering a discount does improve total sales value, but minimally.\n",
    "\n",
    "After reviewing quantity in an order, we looked to make sure that the discount offerings are successfull driving customers to purchase more dollars and not just more product. We compared the population of samples w/ a discount to the population of samples without a discount and found a significant difference between the two, suggesting that it's highly likely that discounts have a significant but minor positive impact on total sales dollars.\n",
    "\n",
    "Sicne it looks like the application of the discounts varies widely, we'd recommend standardizing the application of the discount - not just to levels of discount, but also to quantities and dollars purchased - to better improve the impacts discounts have on sales.\n",
    "\n",
    "## Employees 2, 7, and 9 are strong sellers, and their success can't be explained by chance.\n",
    "\n",
    "On reviewing the sales that employees 2, 7, and 9 have closed, there's a statistically significant difference between what their sales look like and everyone elses, and that's a net positive. If we review their distributions, we note that even after significant outliers were removed, employees 2, 7, and 9 have substantail tails - meaning, they're still closing significant numbers of high dollar sales relative to the norm.\n",
    "\n",
    "![2-7-9](279.PNG)\n",
    "\n",
    "From these employees, we might be able to gain useful insights that we can use to coach other members of the team:\n",
    "\n",
    "* What techniques do they use for pitching/closing/follow-up on a deal?\n",
    "* Can their performance be further enhanced by using the 5% and 15% discounts?\n",
    "* How many of their methods can be translated to coach underperforming team members?\n",
    "\n",
    "Conversely, we can also see that a lot of employees aren't significantly different from each other. We could be asking business questions such as:\n",
    "\n",
    "* Would performance incentives boost sales values?\n",
    "* Would positive compeition help improve sales values as well?"
   ]
  },
  {
   "cell_type": "markdown",
   "metadata": {},
   "source": [
    "## Neither manager is better than the other at generating value.\n",
    "\n",
    "On comparing the sales results of each manager's team, there's no significant difference between the two. This implies that both managers are equally engaged with their employee's sales, and also that teams are flexible - if necessary, a team member from Team 2 could be put into Team 5 without likely having a significant impact.\n",
    "\n",
    "In this case, espescially at the leadership level, we'd encourage the implementation of performance incentives for managers that are strictly team based. As we saw earlier, Employee 2 - who leads Team 2 - is an exemplary seller, however, if their incentive gets tied to their team's performance, it's possible that we can expect Team 2 pull ahead of Team 5.\n",
    "\n"
   ]
  }
 ],
 "metadata": {
  "kernelspec": {
   "display_name": "Python [conda env:learn-env] *",
   "language": "python",
   "name": "conda-env-learn-env-py"
  },
  "language_info": {
   "codemirror_mode": {
    "name": "ipython",
    "version": 3
   },
   "file_extension": ".py",
   "mimetype": "text/x-python",
   "name": "python",
   "nbconvert_exporter": "python",
   "pygments_lexer": "ipython3",
   "version": "3.6.6"
  }
 },
 "nbformat": 4,
 "nbformat_minor": 2
}
